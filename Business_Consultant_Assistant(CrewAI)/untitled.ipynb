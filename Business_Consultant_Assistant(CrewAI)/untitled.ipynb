{
 "cells": [
  {
   "cell_type": "code",
   "execution_count": 1,
   "id": "a5678d47",
   "metadata": {},
   "outputs": [
    {
     "data": {
      "text/html": [
       "<div>\n",
       "<style scoped>\n",
       "    .dataframe tbody tr th:only-of-type {\n",
       "        vertical-align: middle;\n",
       "    }\n",
       "\n",
       "    .dataframe tbody tr th {\n",
       "        vertical-align: top;\n",
       "    }\n",
       "\n",
       "    .dataframe thead th {\n",
       "        text-align: right;\n",
       "    }\n",
       "</style>\n",
       "<table border=\"1\" class=\"dataframe\">\n",
       "  <thead>\n",
       "    <tr style=\"text-align: right;\">\n",
       "      <th></th>\n",
       "      <th>ORDERNUMBER</th>\n",
       "      <th>QUANTITYORDERED</th>\n",
       "      <th>PRICEEACH</th>\n",
       "      <th>ORDERLINENUMBER</th>\n",
       "      <th>SALES</th>\n",
       "      <th>STATUS</th>\n",
       "      <th>QTR_ID</th>\n",
       "      <th>MONTH_ID</th>\n",
       "      <th>YEAR_ID</th>\n",
       "      <th>PRODUCTLINE</th>\n",
       "      <th>MSRP</th>\n",
       "      <th>PRODUCTCODE</th>\n",
       "      <th>CUSTOMERNAME</th>\n",
       "    </tr>\n",
       "  </thead>\n",
       "  <tbody>\n",
       "    <tr>\n",
       "      <th>0</th>\n",
       "      <td>10107</td>\n",
       "      <td>30</td>\n",
       "      <td>95.70</td>\n",
       "      <td>2</td>\n",
       "      <td>2871.00</td>\n",
       "      <td>Shipped</td>\n",
       "      <td>1</td>\n",
       "      <td>2</td>\n",
       "      <td>2003</td>\n",
       "      <td>Motorcycles</td>\n",
       "      <td>95</td>\n",
       "      <td>S10_1678</td>\n",
       "      <td>Land of Toys Inc.</td>\n",
       "    </tr>\n",
       "    <tr>\n",
       "      <th>1</th>\n",
       "      <td>10121</td>\n",
       "      <td>34</td>\n",
       "      <td>81.35</td>\n",
       "      <td>5</td>\n",
       "      <td>2765.90</td>\n",
       "      <td>Shipped</td>\n",
       "      <td>2</td>\n",
       "      <td>5</td>\n",
       "      <td>2003</td>\n",
       "      <td>Motorcycles</td>\n",
       "      <td>95</td>\n",
       "      <td>S10_1678</td>\n",
       "      <td>Reims Collectables</td>\n",
       "    </tr>\n",
       "    <tr>\n",
       "      <th>2</th>\n",
       "      <td>10134</td>\n",
       "      <td>41</td>\n",
       "      <td>94.74</td>\n",
       "      <td>2</td>\n",
       "      <td>3884.34</td>\n",
       "      <td>Shipped</td>\n",
       "      <td>3</td>\n",
       "      <td>7</td>\n",
       "      <td>2003</td>\n",
       "      <td>Motorcycles</td>\n",
       "      <td>95</td>\n",
       "      <td>S10_1678</td>\n",
       "      <td>Lyon Souveniers</td>\n",
       "    </tr>\n",
       "    <tr>\n",
       "      <th>3</th>\n",
       "      <td>10145</td>\n",
       "      <td>45</td>\n",
       "      <td>83.26</td>\n",
       "      <td>6</td>\n",
       "      <td>3746.70</td>\n",
       "      <td>Shipped</td>\n",
       "      <td>3</td>\n",
       "      <td>8</td>\n",
       "      <td>2003</td>\n",
       "      <td>Motorcycles</td>\n",
       "      <td>95</td>\n",
       "      <td>S10_1678</td>\n",
       "      <td>Toys4GrownUps.com</td>\n",
       "    </tr>\n",
       "    <tr>\n",
       "      <th>4</th>\n",
       "      <td>10159</td>\n",
       "      <td>49</td>\n",
       "      <td>100.00</td>\n",
       "      <td>14</td>\n",
       "      <td>5205.27</td>\n",
       "      <td>Shipped</td>\n",
       "      <td>4</td>\n",
       "      <td>10</td>\n",
       "      <td>2003</td>\n",
       "      <td>Motorcycles</td>\n",
       "      <td>95</td>\n",
       "      <td>S10_1678</td>\n",
       "      <td>Corporate Gift Ideas Co.</td>\n",
       "    </tr>\n",
       "  </tbody>\n",
       "</table>\n",
       "</div>"
      ],
      "text/plain": [
       "   ORDERNUMBER  QUANTITYORDERED  PRICEEACH  ORDERLINENUMBER    SALES   STATUS  \\\n",
       "0        10107               30      95.70                2  2871.00  Shipped   \n",
       "1        10121               34      81.35                5  2765.90  Shipped   \n",
       "2        10134               41      94.74                2  3884.34  Shipped   \n",
       "3        10145               45      83.26                6  3746.70  Shipped   \n",
       "4        10159               49     100.00               14  5205.27  Shipped   \n",
       "\n",
       "   QTR_ID  MONTH_ID  YEAR_ID  PRODUCTLINE  MSRP PRODUCTCODE  \\\n",
       "0       1         2     2003  Motorcycles    95    S10_1678   \n",
       "1       2         5     2003  Motorcycles    95    S10_1678   \n",
       "2       3         7     2003  Motorcycles    95    S10_1678   \n",
       "3       3         8     2003  Motorcycles    95    S10_1678   \n",
       "4       4        10     2003  Motorcycles    95    S10_1678   \n",
       "\n",
       "               CUSTOMERNAME  \n",
       "0         Land of Toys Inc.  \n",
       "1        Reims Collectables  \n",
       "2           Lyon Souveniers  \n",
       "3         Toys4GrownUps.com  \n",
       "4  Corporate Gift Ideas Co.  "
      ]
     },
     "execution_count": 1,
     "metadata": {},
     "output_type": "execute_result"
    }
   ],
   "source": [
    "import pandas as pd\n",
    "file= pd.read_csv(\"sales_data_sample.csv\")\n",
    "file.head()"
   ]
  },
  {
   "cell_type": "code",
   "execution_count": 2,
   "id": "3891df0b",
   "metadata": {},
   "outputs": [
    {
     "data": {
      "text/plain": [
       "CUSTOMERNAME\n",
       "AV Stores, Co.             157807.81\n",
       "Alpha Cognac                70488.44\n",
       "Amica Models & Co.          94117.26\n",
       "Anna's Decorations, Ltd    153996.13\n",
       "Atelier graphique           24179.96\n",
       "Name: SALES, dtype: float64"
      ]
     },
     "execution_count": 2,
     "metadata": {},
     "output_type": "execute_result"
    }
   ],
   "source": [
    "file.groupby(by = \"CUSTOMERNAME\")['SALES'].sum().head(5)"
   ]
  },
  {
   "cell_type": "code",
   "execution_count": 15,
   "id": "c167a78b",
   "metadata": {},
   "outputs": [
    {
     "data": {
      "text/plain": [
       "YEAR_ID  PRODUCTLINE     \n",
       "2003     Classic Cars        1484785.29\n",
       "         Motorcycles          370895.58\n",
       "         Planes               272257.60\n",
       "         Ships                244821.09\n",
       "         Trains                72802.29\n",
       "         Trucks and Buses     420429.93\n",
       "         Vintage Cars         650987.76\n",
       "2004     Classic Cars        1762257.09\n",
       "         Motorcycles          560545.23\n",
       "         Planes               502671.80\n",
       "         Ships                341437.97\n",
       "         Trains               116523.85\n",
       "         Trucks and Buses     529302.89\n",
       "         Vintage Cars         911423.77\n",
       "2005     Classic Cars         672573.28\n",
       "         Motorcycles          234947.53\n",
       "         Planes               200074.17\n",
       "         Ships                128178.07\n",
       "         Trains                36917.33\n",
       "         Trucks and Buses     178057.02\n",
       "         Vintage Cars         340739.31\n",
       "Name: SALES, dtype: float64"
      ]
     },
     "execution_count": 15,
     "metadata": {},
     "output_type": "execute_result"
    }
   ],
   "source": [
    "file.groupby(by = [\"YEAR_ID\", \"PRODUCTLINE\"])[\"SALES\"].sum()"
   ]
  },
  {
   "cell_type": "code",
   "execution_count": null,
   "id": "0606f620",
   "metadata": {},
   "outputs": [],
   "source": []
  },
  {
   "cell_type": "code",
   "execution_count": null,
   "id": "6f9c09de",
   "metadata": {},
   "outputs": [],
   "source": []
  }
 ],
 "metadata": {
  "kernelspec": {
   "display_name": "Python 3",
   "language": "python",
   "name": "python3"
  },
  "language_info": {
   "codemirror_mode": {
    "name": "ipython",
    "version": 3
   },
   "file_extension": ".py",
   "mimetype": "text/x-python",
   "name": "python",
   "nbconvert_exporter": "python",
   "pygments_lexer": "ipython3",
   "version": "3.10.0"
  }
 },
 "nbformat": 4,
 "nbformat_minor": 5
}
